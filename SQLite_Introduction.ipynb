{
 "cells": [
  {
   "cell_type": "code",
   "execution_count": 1,
   "metadata": {},
   "outputs": [],
   "source": [
    "# Import necessary libraries \n",
    "\n",
    "import sqlite3"
   ]
  },
  {
   "cell_type": "code",
   "execution_count": 2,
   "metadata": {},
   "outputs": [],
   "source": [
    "# Connect to the database and create a cursor object\n",
    "\n",
    "sqliteConnection = sqlite3.connect('gfg.db')\n",
    "cursor = sqliteConnection.cursor()"
   ]
  },
  {
   "cell_type": "code",
   "execution_count": 3,
   "metadata": {},
   "outputs": [
    {
     "name": "stdout",
     "output_type": "stream",
     "text": [
      "Connected to the database\n"
     ]
    }
   ],
   "source": [
    "print(\"Connected to the database\")\n",
    "\n",
    "#sqliteConnection.close() to close the database"
   ]
  },
  {
   "cell_type": "code",
   "execution_count": 4,
   "metadata": {},
   "outputs": [],
   "source": [
    "# Creating tables\n",
    "\n",
    "sql_command = \"\"\"\n",
    "CREATE TABLE emp(\n",
    "staff_number INTEGER PRIMARY KEY,\n",
    "fname VARCHAR(20),\n",
    "lname VARCHAR(30),\n",
    "gender CHAR(1),\n",
    "joining DATE);\"\"\" \n",
    "\n",
    "cursor.execute(sql_command)\n",
    "sqliteConnection.close()"
   ]
  },
  {
   "cell_type": "code",
   "execution_count": 5,
   "metadata": {},
   "outputs": [],
   "source": [
    "# Inserting data into table\n",
    "\n",
    "connection = sqlite3.connect('gfg.db')\n",
    "crsr = connection.cursor()\n",
    "\n",
    "sql_command2 = \"\"\"INSERT INTO emp VALUES (23, \"Rishabh\",\\\n",
    "    \"Bansal\", \"M\", \"2014-03-28\");\"\"\"\n",
    "\n",
    "crsr.execute(sql_command2)\n",
    "\n",
    "sql_command3 = \"\"\"INSERT INTO emp VALUES (1, \"Bill\", \"Gates\",\\\n",
    "    \"M\", \"1980-10-28\");\"\"\"\n",
    "\n",
    "crsr.execute(sql_command3)\n",
    "\n",
    "# Commit so you save changes to the database\n",
    "connection.commit()\n",
    "connection.close()"
   ]
  },
  {
   "cell_type": "code",
   "execution_count": 9,
   "metadata": {},
   "outputs": [],
   "source": [
    "# Inserting data input by a user\n",
    "\n",
    "connection = sqlite3.connect(\"gfg.db\")\n",
    "crsr = connection.cursor()\n",
    "\n",
    "# Primary Key\n",
    "\n",
    "pk = [2, 3, 4, 5, 6]\n",
    "\n",
    "# Enter 5 first names and last names\n",
    "\n",
    "f_name = ['Nikhil', 'Nisha', 'Abhinav', 'Raju', 'Anshul']\n",
    "l_name = ['Aggarwal', 'Rawat', 'Tomar', 'Suzuki', 'Aggarwal']\n",
    "\n",
    "# Enter respective genders\n",
    "\n",
    "gender = ['M', 'F', 'M', 'M', 'F']\n",
    "\n",
    "# Enter joining date\n",
    "\n",
    "date = ['2019-08-24', '2020-01-01', '2018-05-14', '2015-02-02', '2018-05-14']\n",
    "\n",
    "for i in range(5):\n",
    "    crsr.execute('INSERT INTO emp VALUES (?,?,?,?,?)',\n",
    "                  (pk[i], f_name[i], l_name[i], gender[i], date[i]))\n",
    "\n",
    "connection.commit()\n",
    "connection.close()"
   ]
  },
  {
   "cell_type": "code",
   "execution_count": 10,
   "metadata": {},
   "outputs": [
    {
     "name": "stdout",
     "output_type": "stream",
     "text": [
      "(1, 'Bill', 'Gates', 'M', '1980-10-28')\n",
      "(2, 'Nikhil', 'Aggarwal', 'M', '2019-08-24')\n",
      "(3, 'Nisha', 'Rawat', 'F', '2020-01-01')\n",
      "(4, 'Abhinav', 'Tomar', 'M', '2018-05-14')\n",
      "(5, 'Raju', 'Suzuki', 'M', '2015-02-02')\n",
      "(6, 'Anshul', 'Aggarwal', 'F', '2018-05-14')\n",
      "(23, 'Rishabh', 'Bansal', 'M', '2014-03-28')\n"
     ]
    }
   ],
   "source": [
    "# Reading data from sqlite3 table\n",
    "\n",
    "connection = sqlite3.connect(\"gfg.db\")\n",
    "crsr = connection.cursor()\n",
    "\n",
    "crsr.execute(\"SELECT * FROM emp\")\n",
    "\n",
    "ans = crsr.fetchall()\n",
    "\n",
    "for i in ans:\n",
    "    print(i)"
   ]
  },
  {
   "cell_type": "code",
   "execution_count": 11,
   "metadata": {},
   "outputs": [],
   "source": [
    "# Updating Data\n",
    "\n",
    "conn = sqlite3.connect('gfg.db')\n",
    "cursor = conn.cursor()\n",
    "\n",
    "cursor.execute('''UPDATE emp SET lname = \"Jyoti\" WHERE fname=\"Rishabh\";''')\n",
    "conn.commit()\n",
    "conn.close()"
   ]
  },
  {
   "cell_type": "code",
   "execution_count": null,
   "metadata": {},
   "outputs": [],
   "source": [
    "# Deleting Data\n",
    "\n",
    "conn = sqlite3.connect('gfg.db')\n",
    "cursor = conn.cursor()\n",
    "\n",
    "cursor.execute('''DELETE FROM emp WHERE fname=\"Rishabh\";''')\n",
    "\n",
    "conn.commit()\n",
    "conn.close()"
   ]
  },
  {
   "cell_type": "code",
   "execution_count": 13,
   "metadata": {},
   "outputs": [],
   "source": [
    "# Deleting Table \n",
    "\n",
    "conn = sqlite3.connect('gfg.db')\n",
    "cursor = conn.cursor()\n",
    "cursor.execute('''DROP TABLE emp;''')\n",
    "\n",
    "conn.commit()\n",
    "conn.close()"
   ]
  }
 ],
 "metadata": {
  "kernelspec": {
   "display_name": "Python 3",
   "language": "python",
   "name": "python3"
  },
  "language_info": {
   "codemirror_mode": {
    "name": "ipython",
    "version": 3
   },
   "file_extension": ".py",
   "mimetype": "text/x-python",
   "name": "python",
   "nbconvert_exporter": "python",
   "pygments_lexer": "ipython3",
   "version": "3.10.4"
  }
 },
 "nbformat": 4,
 "nbformat_minor": 2
}
